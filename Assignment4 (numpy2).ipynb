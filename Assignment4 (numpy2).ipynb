{
 "cells": [
  {
   "cell_type": "code",
   "execution_count": 1,
   "metadata": {},
   "outputs": [],
   "source": [
    "#Write a function to find moving average in an array over a window;\n",
    "#Test it over[3,5,7,2,8,10,11,65,72,81,99,100,150] and window of 3"
   ]
  },
  {
   "cell_type": "code",
   "execution_count": 2,
   "metadata": {},
   "outputs": [
    {
     "name": "stdout",
     "output_type": "stream",
     "text": [
      "[  5.           4.66666667   5.66666667   6.66666667   9.66666667\n",
      "  28.66666667  49.33333333  72.66666667  84.          93.33333333\n",
      " 116.33333333]\n"
     ]
    }
   ],
   "source": [
    "import numpy as np\n",
    "dataset = [3,5,7,2,8,10,11,65,72,81,99,100,150]\n",
    "\n",
    "def moving_average(values,window):\n",
    "    weights = np.repeat(1.0,window) / window\n",
    "    smas = np.convolve(values,weights,'valid')\n",
    "    return smas\n",
    "print(moving_average(dataset,3))"
   ]
  },
  {
   "cell_type": "code",
   "execution_count": 3,
   "metadata": {},
   "outputs": [
    {
     "data": {
      "text/plain": [
       "[1, 2, 0, 1, 2, 3, 4, 0, 1, 2]"
      ]
     },
     "execution_count": 3,
     "metadata": {},
     "output_type": "execute_result"
    }
   ],
   "source": [
    "#How to count distance to the previous zero\n",
    "import pandas as pd\n",
    "x = pd.Series([6, 7, 0, 6, 3, 4, 5, 0, 3, 4])\n",
    "(x.groupby(x.eq(0).cumsum().mask(x.eq(0))).cumcount() + 1).mask(x.eq(0), 0).tolist()"
   ]
  },
  {
   "cell_type": "code",
   "execution_count": 5,
   "metadata": {},
   "outputs": [
    {
     "data": {
      "text/plain": [
       "2015-01-01    0.452721\n",
       "2015-01-02    0.340915\n",
       "2015-01-05    0.608116\n",
       "2015-01-06    0.423707\n",
       "2015-01-07    0.573484\n",
       "2015-01-08    0.821918\n",
       "2015-01-09    0.131806\n",
       "2015-01-12    0.264220\n",
       "2015-01-13    0.213567\n",
       "2015-01-14    0.897242\n",
       "2015-01-15    0.482292\n",
       "2015-01-16    0.450449\n",
       "2015-01-19    0.229544\n",
       "2015-01-20    0.991497\n",
       "2015-01-21    0.728124\n",
       "2015-01-22    0.607143\n",
       "2015-01-23    0.540854\n",
       "2015-01-26    0.721028\n",
       "2015-01-27    0.668191\n",
       "2015-01-28    0.720990\n",
       "2015-01-29    0.353051\n",
       "2015-01-30    0.800610\n",
       "2015-02-02    0.046744\n",
       "2015-02-03    0.448867\n",
       "2015-02-04    0.128880\n",
       "2015-02-05    0.610366\n",
       "2015-02-06    0.050537\n",
       "2015-02-09    0.540361\n",
       "2015-02-10    0.233489\n",
       "2015-02-11    0.777887\n",
       "                ...   \n",
       "2015-11-20    0.533608\n",
       "2015-11-23    0.520685\n",
       "2015-11-24    0.817956\n",
       "2015-11-25    0.656396\n",
       "2015-11-26    0.306667\n",
       "2015-11-27    0.299509\n",
       "2015-11-30    0.039325\n",
       "2015-12-01    0.045145\n",
       "2015-12-02    0.594257\n",
       "2015-12-03    0.626415\n",
       "2015-12-04    0.267443\n",
       "2015-12-07    0.520149\n",
       "2015-12-08    0.722723\n",
       "2015-12-09    0.707107\n",
       "2015-12-10    0.808194\n",
       "2015-12-11    0.937399\n",
       "2015-12-14    0.347710\n",
       "2015-12-15    0.064961\n",
       "2015-12-16    0.321264\n",
       "2015-12-17    0.264444\n",
       "2015-12-18    0.782080\n",
       "2015-12-21    0.527315\n",
       "2015-12-22    0.025128\n",
       "2015-12-23    0.375461\n",
       "2015-12-24    0.933010\n",
       "2015-12-25    0.320526\n",
       "2015-12-28    0.418050\n",
       "2015-12-29    0.263007\n",
       "2015-12-30    0.078151\n",
       "2015-12-31    0.940059\n",
       "Freq: B, Length: 261, dtype: float64"
      ]
     },
     "execution_count": 5,
     "metadata": {},
     "output_type": "execute_result"
    }
   ],
   "source": [
    "#Create a Date_time_Index that contains each business day of 2015 and use it to index a Series of random numbers.\n",
    "import numpy as np\n",
    "dti = pd.date_range(start='2015-01-01', end='2015-12-31', freq='B')\n",
    "s = pd.Series(np.random.rand(len(dti)), index = dti)\n",
    "s"
   ]
  },
  {
   "cell_type": "code",
   "execution_count": 6,
   "metadata": {},
   "outputs": [
    {
     "data": {
      "text/plain": [
       "26.758295778339473"
      ]
     },
     "execution_count": 6,
     "metadata": {},
     "output_type": "execute_result"
    }
   ],
   "source": [
    "# Find the sum of the values in s for every Wednesday.\n",
    "s[dti.weekday == 2].sum()"
   ]
  },
  {
   "cell_type": "code",
   "execution_count": 7,
   "metadata": {},
   "outputs": [
    {
     "data": {
      "text/plain": [
       "2015-01-31    0.546430\n",
       "2015-02-28    0.450787\n",
       "2015-03-31    0.367321\n",
       "2015-04-30    0.488964\n",
       "2015-05-31    0.349342\n",
       "2015-06-30    0.456410\n",
       "2015-07-31    0.546817\n",
       "2015-08-31    0.549146\n",
       "2015-09-30    0.549243\n",
       "2015-10-31    0.450342\n",
       "2015-11-30    0.453721\n",
       "2015-12-31    0.473478\n",
       "Freq: M, dtype: float64"
      ]
     },
     "execution_count": 7,
     "metadata": {},
     "output_type": "execute_result"
    }
   ],
   "source": [
    "#Average For each calendar month\n",
    "#s.resample('M', how='mean')\n",
    "s.resample('M').mean()"
   ]
  },
  {
   "cell_type": "code",
   "execution_count": 8,
   "metadata": {},
   "outputs": [
    {
     "name": "stderr",
     "output_type": "stream",
     "text": [
      "C:\\Users\\Vikash\\Anaconda3\\lib\\site-packages\\ipykernel_launcher.py:2: FutureWarning: pd.TimeGrouper is deprecated and will be removed; Please use pd.Grouper(freq=...)\n",
      "  \n"
     ]
    },
    {
     "data": {
      "text/plain": [
       "2015-01-31   2015-01-20\n",
       "2015-05-31   2015-02-17\n",
       "2015-09-30   2015-09-24\n",
       "2016-01-31   2015-12-31\n",
       "dtype: datetime64[ns]"
      ]
     },
     "execution_count": 8,
     "metadata": {},
     "output_type": "execute_result"
    }
   ],
   "source": [
    "#For each group of four consecutive calendar months in s, find the date on which the highest value occurred.\n",
    "s.groupby(pd.TimeGrouper('4M')).idxmax()"
   ]
  },
  {
   "cell_type": "code",
   "execution_count": null,
   "metadata": {},
   "outputs": [],
   "source": []
  }
 ],
 "metadata": {
  "kernelspec": {
   "display_name": "Python 3",
   "language": "python",
   "name": "python3"
  },
  "language_info": {
   "codemirror_mode": {
    "name": "ipython",
    "version": 3
   },
   "file_extension": ".py",
   "mimetype": "text/x-python",
   "name": "python",
   "nbconvert_exporter": "python",
   "pygments_lexer": "ipython3",
   "version": "3.6.5"
  }
 },
 "nbformat": 4,
 "nbformat_minor": 2
}
